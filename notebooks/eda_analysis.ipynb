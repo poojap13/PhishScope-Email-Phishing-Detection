{
 "cells": [
  {
   "cell_type": "code",
   "execution_count": null,
   "id": "2d09ece6",
   "metadata": {
    "vscode": {
     "languageId": "plaintext"
    }
   },
   "outputs": [],
   "source": [
    "# ========================\n",
    "# EDA for PhishScope\n",
    "# ========================\n",
    "import pandas as pd\n",
    "import matplotlib.pyplot as plt\n",
    "import seaborn as sns\n",
    "from wordcloud import WordCloud\n",
    "\n",
    "# Load cleaned dataset\n",
    "df = pd.read_csv(\"../data/cleaned_emails.csv\")\n",
    "\n",
    "# Display basic info\n",
    "print(\"Dataset shape:\", df.shape)\n",
    "df.head()\n"
   ]
  }
 ],
 "metadata": {
  "language_info": {
   "name": "python"
  }
 },
 "nbformat": 4,
 "nbformat_minor": 5
}
